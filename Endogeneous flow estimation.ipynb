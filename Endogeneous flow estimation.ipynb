{
 "cells": [
  {
   "cell_type": "code",
   "execution_count": 8,
   "id": "3a6be744",
   "metadata": {},
   "outputs": [],
   "source": [
    "#Entropy model\n",
    "import pandas as pd\n",
    "import matplotlib as mtb\n",
    "import numpy as np"
   ]
  },
  {
   "cell_type": "code",
   "execution_count": 9,
   "id": "c18c49e1",
   "metadata": {},
   "outputs": [],
   "source": [
    "origin = pd.read_excel('Origin_Livianos.xlsx')\n",
    "destination = pd.read_excel('Destination_Livianos.xlsx')\n",
    "matrix = pd.read_excel('Matrix_base3.xlsx')"
   ]
  },
  {
   "cell_type": "code",
   "execution_count": 10,
   "id": "691c6aec",
   "metadata": {},
   "outputs": [
    {
     "data": {
      "text/plain": [
       "array([[  0.        , 367.29602574,   0.        ,   0.        ,\n",
       "          0.        ,   0.        ,   0.        ,  45.18541715,\n",
       "          0.        ,   0.        ,   0.        ,   0.        ,\n",
       "          0.        ,   0.        ,   0.        ],\n",
       "       [177.61815191,   0.        ,   0.        ,   0.        ,\n",
       "          0.        ,   0.        ,   0.        , 198.06661642,\n",
       "          0.        ,   0.        , 239.30918736, 262.43570547,\n",
       "          0.        ,   0.        ,   0.        ],\n",
       "       [ 25.24001289,  31.61509769,   0.        ,   0.        ,\n",
       "          0.        ,  30.16258417,   0.        ,   0.        ,\n",
       "          0.        ,   0.        ,   0.        ,   0.        ,\n",
       "          0.        ,   0.        ,   0.        ],\n",
       "       [ 67.53408855,  84.59174787,   0.        ,   0.        ,\n",
       "          0.        ,  80.70529278,   0.        ,   0.        ,\n",
       "          0.        ,   0.        ,   0.        ,   0.        ,\n",
       "          0.        ,   0.        ,   0.        ],\n",
       "       [ 29.16244733,  36.52825476,   0.        ,   0.        ,\n",
       "          0.        ,   0.        ,   0.        ,   0.        ,\n",
       "          0.        ,   0.        ,   0.        ,   0.        ,\n",
       "          0.        ,   0.        ,   0.        ],\n",
       "       [  0.        ,   0.        ,   0.        ,   0.        ,\n",
       "          0.        ,   0.        ,   0.        ,   0.        ,\n",
       "          0.        ,   0.        ,   0.        ,   0.        ,\n",
       "          0.        ,   0.        ,   0.        ],\n",
       "       [  0.        ,   0.        ,   0.        ,   0.        ,\n",
       "          0.        ,   0.        ,   0.        ,   0.        ,\n",
       "          0.        ,   0.        ,   0.        ,   0.        ,\n",
       "          0.        ,   0.        ,   0.        ],\n",
       "       [438.4714985 ,  21.13350321,   0.        ,   0.        ,\n",
       "          0.        ,   0.        ,  15.65288999,   0.        ,\n",
       "          0.        ,   0.        ,   0.        ,   0.        ,\n",
       "          0.        ,   0.        ,   0.        ],\n",
       "       [  0.        ,   0.        ,   0.        ,   0.        ,\n",
       "          0.        ,   0.        ,  23.20428328,  77.36525091,\n",
       "          0.        ,   0.        ,   0.        ,   0.        ,\n",
       "          0.        , 176.77546092,  89.01017926],\n",
       "       [155.60631988,  73.12435129,  13.95658891,   0.        ,\n",
       "          7.16314994,   7.11258052,   0.        ,   0.        ,\n",
       "          0.        ,   0.        ,   0.        ,   0.        ,\n",
       "          0.        , 109.55098986,  55.16123785],\n",
       "       [  0.        ,  37.82773691, 146.3097514 ,   0.        ,\n",
       "         75.0927532 ,   7.20426759,   0.        ,   0.        ,\n",
       "          0.        ,   0.        ,   0.        ,   0.        ,\n",
       "          0.        ,   0.        ,   0.        ],\n",
       "       [  0.        ,   6.73091404,  26.03376359,   0.        ,\n",
       "         13.36169986,   1.28189815,   0.        ,   0.        ,\n",
       "          0.        ,   0.        ,   0.        ,   0.        ,\n",
       "          0.        ,   0.        ,   0.        ],\n",
       "       [  0.        ,  21.94277977,  84.87006932,   0.        ,\n",
       "         43.55914154,   4.17898796,   0.        ,   0.        ,\n",
       "          0.        ,   0.        ,   0.        ,   0.        ,\n",
       "          0.        ,   0.        ,   0.        ],\n",
       "       [  0.        ,   0.        ,   0.        ,   0.        ,\n",
       "          0.        ,  89.35111752,   0.        ,   0.        ,\n",
       "          0.        ,   0.        ,   0.        ,   0.        ,\n",
       "          0.        ,   0.        ,   0.        ],\n",
       "       [  0.        ,   0.        ,   0.        ,   0.        ,\n",
       "          0.        ,  43.3518385 ,   0.        ,   0.        ,\n",
       "          0.        ,   0.        ,   0.        ,   0.        ,\n",
       "          0.        ,   0.        ,   0.        ]])"
      ]
     },
     "execution_count": 10,
     "metadata": {},
     "output_type": "execute_result"
    }
   ],
   "source": [
    "## Check variableas and prepare base data\n",
    "origin_zone = origin['Zone'].count()\n",
    "destination_zone = destination['Zone'].count()\n",
    "\n",
    "## Create Xm and Xn vector\n",
    "Xm = [1]*origin_zone\n",
    "XmPrev = [1]*origin_zone\n",
    "Xn = [1]*destination_zone\n",
    "XnPrev = [1]*destination_zone\n",
    "\n",
    "dXm = [1]*origin_zone\n",
    "dXn = [1]*destination_zone\n",
    "\n",
    "## Prepare matrix\n",
    "\n",
    "base_matrix = matrix.drop(columns = ['Zone']).values\n",
    "base_matrix"
   ]
  },
  {
   "cell_type": "code",
   "execution_count": 11,
   "id": "0699bd1d",
   "metadata": {
    "scrolled": false
   },
   "outputs": [
    {
     "name": "stdout",
     "output_type": "stream",
     "text": [
      "Iteration:  1\n",
      "Max average error 1.1984620899082106e+307\n",
      "Iteration:  2\n",
      "Max average error 0.15320771039769912\n",
      "Iteration:  3\n",
      "Max average error 0.11581244395944225\n",
      "Iteration:  4\n",
      "Max average error 0.09264120983558762\n",
      "Iteration:  5\n",
      "Max average error 0.0758054605576937\n",
      "Iteration:  6\n",
      "Max average error 0.06319095178655615\n",
      "Iteration:  7\n",
      "Max average error 0.053580225792062605\n",
      "Iteration:  8\n",
      "Max average error 0.04613849777325055\n",
      "Iteration:  9\n",
      "Max average error 0.04076895143616665\n",
      "Iteration:  10\n",
      "Max average error 0.03656720810676069\n",
      "Iteration:  11\n",
      "Max average error 0.03318173129343694\n",
      "Iteration:  12\n",
      "Max average error 0.030569435673911162\n",
      "Iteration:  13\n",
      "Max average error 0.028798031041560295\n",
      "Iteration:  14\n",
      "Max average error 0.027737046270560686\n",
      "Iteration:  15\n",
      "Max average error 0.026974179514438302\n",
      "Iteration:  16\n",
      "Max average error 0.026322905174851374\n",
      "Iteration:  17\n",
      "Max average error 0.02576296708863003\n",
      "Iteration:  18\n",
      "Max average error 0.025278794771733535\n",
      "Iteration:  19\n",
      "Max average error 0.024858186528122092\n",
      "Iteration:  20\n",
      "Max average error 0.024491413424057123\n",
      "Iteration:  21\n",
      "Max average error 0.024170597558202403\n",
      "Iteration:  22\n",
      "Max average error 0.023889272514710423\n",
      "Iteration:  23\n",
      "Max average error 0.02364206701579613\n",
      "Iteration:  24\n",
      "Max average error 0.023424473311647\n",
      "Iteration:  25\n",
      "Max average error 0.023232674791491086\n",
      "Iteration:  26\n",
      "Max average error 0.023063415613706492\n",
      "Iteration:  27\n",
      "Max average error 0.022913900583726353\n",
      "Iteration:  28\n",
      "Max average error 0.02278171711273297\n",
      "Iteration:  29\n",
      "Max average error 0.022664773517387538\n",
      "Iteration:  30\n",
      "Max average error 0.022561249577472676\n",
      "Iteration:  31\n",
      "Max average error 0.02246955641289706\n",
      "Iteration:  32\n",
      "Max average error 0.022388303541197144\n",
      "Iteration:  33\n",
      "Max average error 0.02231627154118419\n",
      "Iteration:  34\n",
      "Max average error 0.02225238915077378\n",
      "Iteration:  35\n",
      "Max average error 0.02219571391650771\n",
      "Iteration:  36\n",
      "Max average error 0.022145415722424226\n",
      "Iteration:  37\n",
      "Max average error 0.022100762679858492\n",
      "Iteration:  38\n",
      "Max average error 0.022061108973554476\n",
      "Iteration:  39\n",
      "Max average error 0.022025884344396608\n",
      "Iteration:  40\n",
      "Max average error 0.021994584953096218\n"
     ]
    },
    {
     "name": "stderr",
     "output_type": "stream",
     "text": [
      "<ipython-input-11-5c31d62015f7>:18: RuntimeWarning: invalid value encountered in true_divide\n",
      "  Xn[n] = Dn/denM\n",
      "<ipython-input-11-5c31d62015f7>:18: RuntimeWarning: divide by zero encountered in true_divide\n",
      "  Xn[n] = Dn/denM\n",
      "<ipython-input-11-5c31d62015f7>:26: RuntimeWarning: invalid value encountered in true_divide\n",
      "  Xm[m] = Om/denN\n",
      "<ipython-input-11-5c31d62015f7>:30: RuntimeWarning: invalid value encountered in double_scalars\n",
      "  dXn[n] = abs((Xn[n]-XnPrev[n])/XnPrev[n])\n",
      "<ipython-input-11-5c31d62015f7>:32: RuntimeWarning: invalid value encountered in double_scalars\n",
      "  dXm[n] = abs((Xm[n]-XmPrev[n])/XmPrev[n])\n"
     ]
    }
   ],
   "source": [
    "# Empty vectors\n",
    "\n",
    "XnPrev[:] = Xn[:]\n",
    "XmPrev[:] = Xm[:]\n",
    "\n",
    "#While implementation\n",
    "error = 2000\n",
    "counter = 1\n",
    "while (error >= 0.022):\n",
    "    XnPrev[:] = Xn[:]\n",
    "    XmPrev[:] = Xm[:]\n",
    "    for n in range(0, destination_zone):\n",
    "        Dn = destination['D_Trips'].loc[n]\n",
    "        denM = 0\n",
    "        for m in range(0, origin_zone):\n",
    "            mSum = Xm[m]*base_matrix[m,n]\n",
    "            denM = denM + mSum\n",
    "        Xn[n] = Dn/denM\n",
    "    Xn = np.nan_to_num(Xn, nan = 0)\n",
    "    for m in range (0, origin_zone):\n",
    "        Om = origin['O_Trips'].loc[m]\n",
    "        denN = 0\n",
    "        for n in range (0, destination_zone):\n",
    "            nSum = Xn[n]* base_matrix[m,n]\n",
    "            denN = denN + nSum\n",
    "        Xm[m] = Om/denN   \n",
    "    Xm = np.nan_to_num(Xm, nan = 0)\n",
    "    ## Error estimation\n",
    "    for n in range(0, destination_zone):\n",
    "        dXn[n] = abs((Xn[n]-XnPrev[n])/XnPrev[n])\n",
    "        dXn = np.nan_to_num(dXn, nan = 0)\n",
    "        dXm[n] = abs((Xm[n]-XmPrev[n])/XmPrev[n])\n",
    "        dXm = np.nan_to_num(dXm, nan = 0)\n",
    "    errorN = np.mean(dXn)\n",
    "    errorM = np.mean(dXm)\n",
    "    error = np.maximum(errorN, errorM)\n",
    "\n",
    "    print(\"Iteration: \", counter)\n",
    "    print(\"Max average error\", error)\n",
    "    counter = counter + 1 "
   ]
  },
  {
   "cell_type": "code",
   "execution_count": 12,
   "id": "ac7f0206",
   "metadata": {},
   "outputs": [],
   "source": [
    "### Create reception matrix\n",
    "\n",
    "model_matrix = np.ones((origin_zone,destination_zone))\n",
    "## fill matrix\n",
    "for m in range (0, origin_zone):\n",
    "    for n in range (0, destination_zone):\n",
    "        model_matrix[m,n] = base_matrix[m,n]*Xn[n]*Xm[m]\n",
    "model_matrix = pd.DataFrame(model_matrix)\n",
    "model_matrix\n",
    "model_matrix.to_excel(\"Matrix_final_test.xlsx\")"
   ]
  },
  {
   "cell_type": "code",
   "execution_count": null,
   "id": "13d831e1",
   "metadata": {},
   "outputs": [],
   "source": [
    "### Drafts\n",
    "## Loop\n",
    "\n",
    "XnPrev[:] = Xn[:]\n",
    "XmPrev[:] = Xm[:]\n",
    "\n",
    "for n in range(0, destination_zone):\n",
    "    Dn = destination['D_Trips'].loc[n]\n",
    "    denM = 0\n",
    "    for m in range(0, origin_zone):\n",
    "        mSum = Xm[m]*base_matrix[m,n]\n",
    "        denM = denM + mSum\n",
    "    Xn[n] = Dn/denM\n",
    "Xn = np.nan_to_num(Xn, nan = 0)\n",
    "for m in range (0, origin_zone):\n",
    "    Om = origin['O_Trips'].loc[m]\n",
    "    denN = 0\n",
    "    for n in range (0, destination_zone):\n",
    "        nSum = Xn[n]* base_matrix[m,n]\n",
    "        print(Xn[n], base_matrix[m,n])\n",
    "        denN = denN + nSum\n",
    "    Xm[m] = Om/denN   \n",
    "Xm = np.nan_to_num(Xm, nan = 0)\n"
   ]
  },
  {
   "cell_type": "code",
   "execution_count": null,
   "id": "6e95af6c",
   "metadata": {},
   "outputs": [],
   "source": [
    "## Error estimation\n",
    "for n in range(0, destination_zone):\n",
    "    dXn[n] = abs((Xn[n]-XnPrev[n])/XnPrev[n])\n",
    "    print(dXn[n])\n",
    "\n"
   ]
  },
  {
   "cell_type": "code",
   "execution_count": null,
   "id": "95b25fbb",
   "metadata": {},
   "outputs": [],
   "source": [
    "np.mean(dXn)"
   ]
  },
  {
   "cell_type": "code",
   "execution_count": null,
   "id": "e6bdd14a",
   "metadata": {},
   "outputs": [],
   "source": [
    "error"
   ]
  },
  {
   "cell_type": "code",
   "execution_count": null,
   "id": "e62e494e",
   "metadata": {},
   "outputs": [],
   "source": [
    "XnPrev = Xn\n",
    "XmPrev = Xm"
   ]
  },
  {
   "cell_type": "code",
   "execution_count": null,
   "id": "8be6de95",
   "metadata": {},
   "outputs": [],
   "source": [
    "Xn"
   ]
  },
  {
   "cell_type": "code",
   "execution_count": null,
   "id": "e4152b2f",
   "metadata": {},
   "outputs": [],
   "source": [
    "XnPrev"
   ]
  },
  {
   "cell_type": "code",
   "execution_count": null,
   "id": "a73a5f1f",
   "metadata": {},
   "outputs": [],
   "source": [
    "Xm"
   ]
  },
  {
   "cell_type": "code",
   "execution_count": null,
   "id": "f3aee4cd",
   "metadata": {},
   "outputs": [],
   "source": [
    "base_matrix"
   ]
  },
  {
   "cell_type": "code",
   "execution_count": null,
   "id": "90577fd1",
   "metadata": {},
   "outputs": [],
   "source": [
    "base_matrix[7,1]"
   ]
  },
  {
   "cell_type": "code",
   "execution_count": null,
   "id": "4f94e4a1",
   "metadata": {},
   "outputs": [],
   "source": [
    "matrix"
   ]
  },
  {
   "cell_type": "code",
   "execution_count": null,
   "id": "e5d3e38d",
   "metadata": {},
   "outputs": [],
   "source": []
  }
 ],
 "metadata": {
  "kernelspec": {
   "display_name": "Python 3",
   "language": "python",
   "name": "python3"
  },
  "language_info": {
   "codemirror_mode": {
    "name": "ipython",
    "version": 3
   },
   "file_extension": ".py",
   "mimetype": "text/x-python",
   "name": "python",
   "nbconvert_exporter": "python",
   "pygments_lexer": "ipython3",
   "version": "3.8.8"
  }
 },
 "nbformat": 4,
 "nbformat_minor": 5
}
